{
 "cells": [
  {
   "cell_type": "code",
   "execution_count": null,
   "metadata": {
    "collapsed": true
   },
   "outputs": [],
   "source": [
    "def queryData():\n",
    "    try:\n",
    "        # open sqlite file\n",
    "        db = adodb.NewADOConnection('sqlite')\n",
    "        db.Connect(database = sqlFile)\n",
    "       \n",
    "        # set basic query\n",
    "        sqlquery = \"SELECT DISTINCT col_1 FROM tablelabels\" \n",
    "        \n",
    "        # Select Distinct values from the key column\n",
    "        list = db.GetAll(sqlquery)\n",
    "\n",
    "        # For each item in list query for records\n",
    "        for x in list:\n",
    "            sqlquery = (\"SELECT col_2 FROM tablelabels WHERE col_1='\"+x[0]+\"'\")\n",
    "            sublist = db.GetAll(sqlquery)\n",
    "            \n",
    "            # tranpose the results\n",
    "            test = transposeData(x[0], sublist)\n",
    "        \n",
    "        db.Close()\n",
    "    \n",
    "    except Exception,e:\n",
    "        db.Close()\n",
    "        outcsv.close()\n",
    "        print \"Error reading Database:\"+str(e)\n",
    "\n",
    "def transposeData(item,  sublist):\n",
    "    try:\n",
    "        # take list and write out\n",
    "        a=sublist[0]\n",
    "        y=a[0]\n",
    "\n",
    "        for x in sublist[1:]:\n",
    "            y = y+\",\"+x[0]\n",
    "        \n",
    "        # write line to csv\n",
    "        outcsv.writelines(y+\"\\n\")\n",
    "        return 0\n",
    "    \n",
    "    except Exception,e:\n",
    "        outcsv.close()\n",
    "        return 1\n",
    "        print \"Error Writing Output:\"+ str(e)"
   ]
  }
 ],
 "metadata": {
  "kernelspec": {
   "display_name": "Python 2",
   "language": "python",
   "name": "python2"
  },
  "language_info": {
   "codemirror_mode": {
    "name": "ipython",
    "version": 2
   },
   "file_extension": ".py",
   "mimetype": "text/x-python",
   "name": "python",
   "nbconvert_exporter": "python",
   "pygments_lexer": "ipython2",
   "version": "2.7.10"
  }
 },
 "nbformat": 4,
 "nbformat_minor": 0
}
